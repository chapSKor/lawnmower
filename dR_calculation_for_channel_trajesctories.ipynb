{
 "cells": [
  {
   "cell_type": "markdown",
   "metadata": {},
   "source": [
    "# Import trajectories data spreadsheet"
   ]
  },
  {
   "cell_type": "code",
   "execution_count": 1,
   "metadata": {},
   "outputs": [],
   "source": [
    "import tkinter.filedialog\n",
    "import tkinter as tk\n",
    "import os\n",
    "root = tk.Tk() # open tkinter gui\n",
    "rootDirectory = tk.filedialog.askdirectory() #browse for folder\n",
    "root.destroy() # close tkinter\n",
    "os.chdir(rootDirectory)"
   ]
  },
  {
   "cell_type": "code",
   "execution_count": 2,
   "metadata": {},
   "outputs": [
    {
     "name": "stdout",
     "output_type": "stream",
     "text": [
      "C:/Users/vanja/Box/Experimental/2020/Lawnmower_310120/Trajs with overlaps/Displacements/dRcum_LM_experiment1_hor&ver.csv\n"
     ]
    }
   ],
   "source": [
    "import tkinter.filedialog\n",
    "import tkinter as tk\n",
    "import pandas as pd\n",
    "\n",
    "root = tk.Tk() # open tkinter gui\n",
    "filepath = tk.filedialog.askopenfilename() # browse for file\n",
    "root.destroy() # close tkinter\n",
    "print(filepath)\n",
    "df = pd.read_csv(filepath,header=0,sep=',',engine='python')\n",
    "f = df.apply(pd.to_numeric,errors='coerce')"
   ]
  },
  {
   "cell_type": "markdown",
   "metadata": {},
   "source": [
    "# Choose trajectories for analysis. Don't forget to press 'Enter' after you are done"
   ]
  },
  {
   "cell_type": "code",
   "execution_count": 40,
   "metadata": {},
   "outputs": [
    {
     "name": "stdout",
     "output_type": "stream",
     "text": [
      "Note that TA MSDs calculation is time-intense – for a quicker result choose not more than 2 trajectories when running the notebook.\n",
      "Please enter trajectory numbers separated by a comma, ranges, or type 'all'. Press 'Enter': all\n",
      "You chose all trajectories\n",
      "You chose in total 21 trajectories\n",
      "      Time(s)          X1         Y1  Flag1         X3         Y3  Flag3  \\\n",
      "0           0  128.080747  21.007390    NaN  23.287917  25.057084    NaN   \n",
      "1           1  128.111582  21.067830    NaN  23.967673  25.390085    NaN   \n",
      "2           2  128.086236  21.270652    NaN  23.682352  24.818750    NaN   \n",
      "3           3  128.231447  21.506928    NaN  23.258021  24.924441    NaN   \n",
      "4           4  128.120190  21.150962    NaN  23.862501  25.287500    NaN   \n",
      "...       ...         ...        ...    ...        ...        ...    ...   \n",
      "6784     6784         NaN        NaN    NaN        NaN        NaN    NaN   \n",
      "6785     6785         NaN        NaN    NaN        NaN        NaN    NaN   \n",
      "6786     6786         NaN        NaN    NaN        NaN        NaN    NaN   \n",
      "6787     6787         NaN        NaN    NaN        NaN        NaN    NaN   \n",
      "6788     6788         NaN        NaN    NaN        NaN        NaN    NaN   \n",
      "\n",
      "              X4         Y4  Flag4  ...  Flag62        X67         Y67  \\\n",
      "0     264.964920  30.732457    NaN  ...     NaN  25.047917  133.100000   \n",
      "1     265.731524  30.604093    NaN  ...     NaN  25.054891  133.153804   \n",
      "2     265.765143  30.398679    NaN  ...     NaN  24.930278  132.858610   \n",
      "3     265.753730  30.819298    NaN  ...     NaN  24.819957  132.571711   \n",
      "4     265.615955  31.492945    NaN  ...     NaN  25.047917  132.550000   \n",
      "...          ...        ...    ...  ...     ...        ...         ...   \n",
      "6784  265.024595  98.559109    NaN  ...     NaN        NaN         NaN   \n",
      "6785  264.779157  98.468123    NaN  ...     NaN        NaN         NaN   \n",
      "6786  265.460234  98.544325    NaN  ...     NaN        NaN         NaN   \n",
      "6787  265.728719  98.497231    NaN  ...     NaN        NaN         NaN   \n",
      "6788  265.605571  98.466918    NaN  ...     NaN        NaN         NaN   \n",
      "\n",
      "      Flag67         X70        Y70  Flag70         X74         Y74  Flag74  \n",
      "0        NaN  293.791685  94.429761     NaN  142.063075  136.345643     NaN  \n",
      "1        NaN  293.755000  94.948331     NaN  142.083342  136.400000     NaN  \n",
      "2        NaN  293.793775  95.231246     NaN  142.205783  136.250188     NaN  \n",
      "3        NaN  293.787505  94.937496     NaN  142.093627  136.655354     NaN  \n",
      "4        NaN  293.787505  94.875000     NaN  142.093627  136.655354     NaN  \n",
      "...      ...         ...        ...     ...         ...         ...     ...  \n",
      "6784     NaN         NaN        NaN     NaN         NaN         NaN     NaN  \n",
      "6785     NaN         NaN        NaN     NaN         NaN         NaN     NaN  \n",
      "6786     NaN         NaN        NaN     NaN         NaN         NaN     NaN  \n",
      "6787     NaN         NaN        NaN     NaN         NaN         NaN     NaN  \n",
      "6788     NaN         NaN        NaN     NaN         NaN         NaN     NaN  \n",
      "\n",
      "[6789 rows x 64 columns]\n"
     ]
    }
   ],
   "source": [
    "import numpy as np\n",
    "import re\n",
    "\n",
    "chosenTracksInput = input(\"Please enter trajectory numbers separated by a comma, ranges, or type 'all'. Press 'Enter': \");\n",
    "chosenTracksInput = chosenTracksInput.replace(\" \", \"\"); #remove whitespaces from user's input\n",
    "chosenTracksList = chosenTracksInput.split(\",\"); #split input to list, comma is separator\n",
    "allChosenTracksList = [];\n",
    "#print(chosenTracksList)\n",
    "for i in range (0,len(chosenTracksList)): #loop for chosen track numbers\n",
    "    flag = False; #flag becomes true when input is correct\n",
    "    chosenTrackNum = chosenTracksList[i];\n",
    "    if chosenTrackNum.isdigit() == True:\n",
    "        allChosenTracksList.append(chosenTrackNum);\n",
    "        #print(allChosenTracksList)\n",
    "        flag = True;\n",
    "        print(\"You chose trajectory # \" + chosenTrackNum)\n",
    "        dfChosenTrack = df.loc[:,['X'+chosenTrackNum, 'Y'+chosenTrackNum, 'Flag'+chosenTrackNum]]; # dataframe for every chosen track\n",
    "        if i == 0: #create dataframe if that't 1st track in input\n",
    "            tracksDf = dfChosenTrack;\n",
    "        else:    \n",
    "            tracksDf = pd.concat([tracksDf, dfChosenTrack], axis=1); #otherwise add track to analysis dataframe\n",
    "    elif chosenTrackNum == 'all': # if all tracks are chosen, they're added to analysis dataframe\n",
    "        flag = True;\n",
    "        print(\"You chose all trajectories\")\n",
    "        tracksDf = df;\n",
    "        colnames = str(tracksDf.columns)\n",
    "        s = [float(s) for s in re.findall(r'-?\\d+\\.?\\d*', colnames)]\n",
    "        allChosenTracksList = np.unique(np.array(s))\n",
    "    elif (chosenTrackNum.find('-') != -1): #split dash-separeted ranges of tracks so to get all tracks within range\n",
    "        tracksRange = chosenTrackNum.split(\"-\");\n",
    "        #print(tracksRange)\n",
    "        if len(tracksRange) == 2 and  all(j.isdigit() == True for j in tracksRange): #check there're 2 numbers in input range\n",
    "            flag = True\n",
    "            allTracksInRange = np.arange(int(tracksRange[0]),int(tracksRange[1])+1); #make array of all numbers within range\n",
    "            for t in allTracksInRange:\n",
    "                chosenTrackNum = str(t);\n",
    "                allChosenTracksList.append(chosenTrackNum);\n",
    "                print(\"You chose trajectory # \" + chosenTrackNum)\n",
    "                dfChosenTrack = df.loc[:,['X'+chosenTrackNum, 'Y'+chosenTrackNum, 'Flag'+chosenTrackNum]];\n",
    "                if i == 0 and t == allTracksInRange[0]:\n",
    "                    tracksDf = dfChosenTrack; #create dataframe if that't 1st track in input\n",
    "                else: \n",
    "                    tracksDf = pd.concat([tracksDf, dfChosenTrack], axis=1); #add other chosen tracks to analysis dataframe\n",
    "    print(\"You chose in total \" + str(len(allChosenTracksList)) + \" trajectories\")\n",
    "    if flag == False: \n",
    "        print(\"Trajectories not found. Please re-enter trajectory number or 'all'\")\n",
    "        break\n",
    "\n",
    "print(tracksDf) \n",
    "#tracksDf.to_csv('TracksForAnalysis.csv', index=False)"
   ]
  },
  {
   "cell_type": "markdown",
   "metadata": {},
   "source": [
    "# Setting FPS and pixel size"
   ]
  },
  {
   "cell_type": "code",
   "execution_count": 6,
   "metadata": {},
   "outputs": [],
   "source": [
    "fps = 1\n",
    "pixSize = 1 # pixel size in um/pix"
   ]
  },
  {
   "cell_type": "markdown",
   "metadata": {},
   "source": [
    "# Create dataframe"
   ]
  },
  {
   "cell_type": "code",
   "execution_count": 55,
   "metadata": {},
   "outputs": [
    {
     "name": "stdout",
     "output_type": "stream",
     "text": [
      "Empty dataframe for MSD was created\n",
      "      Time(s) d_x track 1 d_y track 1 d_x track 3 d_y track 3 d_x track 4  \\\n",
      "0           0         NaN         NaN         NaN         NaN         NaN   \n",
      "1           1         NaN         NaN         NaN         NaN         NaN   \n",
      "2           2         NaN         NaN         NaN         NaN         NaN   \n",
      "3           3         NaN         NaN         NaN         NaN         NaN   \n",
      "4           4         NaN         NaN         NaN         NaN         NaN   \n",
      "...       ...         ...         ...         ...         ...         ...   \n",
      "6784     6784         NaN         NaN         NaN         NaN         NaN   \n",
      "6785     6785         NaN         NaN         NaN         NaN         NaN   \n",
      "6786     6786         NaN         NaN         NaN         NaN         NaN   \n",
      "6787     6787         NaN         NaN         NaN         NaN         NaN   \n",
      "6788     6788         NaN         NaN         NaN         NaN         NaN   \n",
      "\n",
      "     d_y track 4 d_x track 5 d_y track 5 d_x track 6  ... d_x track 55  \\\n",
      "0            NaN         NaN         NaN         NaN  ...          NaN   \n",
      "1            NaN         NaN         NaN         NaN  ...          NaN   \n",
      "2            NaN         NaN         NaN         NaN  ...          NaN   \n",
      "3            NaN         NaN         NaN         NaN  ...          NaN   \n",
      "4            NaN         NaN         NaN         NaN  ...          NaN   \n",
      "...          ...         ...         ...         ...  ...          ...   \n",
      "6784         NaN         NaN         NaN         NaN  ...          NaN   \n",
      "6785         NaN         NaN         NaN         NaN  ...          NaN   \n",
      "6786         NaN         NaN         NaN         NaN  ...          NaN   \n",
      "6787         NaN         NaN         NaN         NaN  ...          NaN   \n",
      "6788         NaN         NaN         NaN         NaN  ...          NaN   \n",
      "\n",
      "     d_y track 55 d_x track 62 d_y track 62 d_x track 67 d_y track 67  \\\n",
      "0             NaN          NaN          NaN          NaN          NaN   \n",
      "1             NaN          NaN          NaN          NaN          NaN   \n",
      "2             NaN          NaN          NaN          NaN          NaN   \n",
      "3             NaN          NaN          NaN          NaN          NaN   \n",
      "4             NaN          NaN          NaN          NaN          NaN   \n",
      "...           ...          ...          ...          ...          ...   \n",
      "6784          NaN          NaN          NaN          NaN          NaN   \n",
      "6785          NaN          NaN          NaN          NaN          NaN   \n",
      "6786          NaN          NaN          NaN          NaN          NaN   \n",
      "6787          NaN          NaN          NaN          NaN          NaN   \n",
      "6788          NaN          NaN          NaN          NaN          NaN   \n",
      "\n",
      "     d_x track 70 d_y track 70 d_x track 74 d_y track 74  \n",
      "0             NaN          NaN          NaN          NaN  \n",
      "1             NaN          NaN          NaN          NaN  \n",
      "2             NaN          NaN          NaN          NaN  \n",
      "3             NaN          NaN          NaN          NaN  \n",
      "4             NaN          NaN          NaN          NaN  \n",
      "...           ...          ...          ...          ...  \n",
      "6784          NaN          NaN          NaN          NaN  \n",
      "6785          NaN          NaN          NaN          NaN  \n",
      "6786          NaN          NaN          NaN          NaN  \n",
      "6787          NaN          NaN          NaN          NaN  \n",
      "6788          NaN          NaN          NaN          NaN  \n",
      "\n",
      "[6789 rows x 43 columns]\n",
      "1\n"
     ]
    }
   ],
   "source": [
    "listOfFrames = []; #create empty list\n",
    "for i in range (0, tracksDf.shape[0]): # loop for rows\n",
    "    if np.isnan(df.iloc[i,0]) == False: # if frame exists in initial data, add zeros row for it in list\n",
    "        listOfTracks = [df.iloc[i,0]];\n",
    "        for j in range (1, int(tracksDf.shape[1] / 3) + 1): #Change denominator to how many columns each track occupies\n",
    "            listOfTracks.extend(['NaN', 'NaN']); #grow list horizontally to encompass all tracks\n",
    "        listOfFrames.append(listOfTracks); #grow list vertically to encompass all frames rows\n",
    "    #else: \n",
    "        #break    \n",
    "listOfColNames = ['Time(s)'];\n",
    "for trackNum in allChosenTracksList:\n",
    "    listOfColNames.extend(['d_x track ' + str(int(trackNum)), 'd_y track ' + str(int(trackNum))]);\n",
    "dfdR = pd.DataFrame(listOfFrames, columns = listOfColNames) #make MSD dataframe from list\n",
    "print(\"Empty dataframe for MSD was created\")\n",
    "print(dfdR)\n",
    "print (tracksDf.iat[1,0])"
   ]
  },
  {
   "cell_type": "markdown",
   "metadata": {},
   "source": [
    "# Calculate displacement from origin"
   ]
  },
  {
   "cell_type": "code",
   "execution_count": 42,
   "metadata": {},
   "outputs": [
    {
     "name": "stdout",
     "output_type": "stream",
     "text": [
      "      Time(s) d_x track 1 d_y track 1 d_x track 3 d_y track 3  d_x track 4  \\\n",
      "0           0         0.0         0.0         0.0         0.0     0.000000   \n",
      "1           1    0.030836     0.06044    0.679756       0.333     0.766604   \n",
      "2           2    0.005489    0.263261    0.394436   -0.238334     0.800223   \n",
      "3           3      0.1507    0.499537   -0.029896   -0.132644     0.788810   \n",
      "4           4    0.039443    0.143572    0.574584    0.230415     0.651035   \n",
      "...       ...         ...         ...         ...         ...          ...   \n",
      "6784     6784         NaN         NaN         NaN         NaN     0.059675   \n",
      "6785     6785         NaN         NaN         NaN         NaN    -0.185763   \n",
      "6786     6786         NaN         NaN         NaN         NaN     0.495314   \n",
      "6787     6787         NaN         NaN         NaN         NaN     0.763799   \n",
      "6788     6788         NaN         NaN         NaN         NaN     0.640651   \n",
      "\n",
      "      d_y track 4 d_x track 5 d_y track 5 d_x track 6  ... d_x track 55  \\\n",
      "0        0.000000         0.0         0.0         0.0  ...          0.0   \n",
      "1       -0.128364   -0.147317    0.674174    0.505755  ...    -0.092978   \n",
      "2       -0.333779    0.213821    1.368392    0.272773  ...    -0.240707   \n",
      "3        0.086841   -0.112282    1.075646   -0.053124  ...    -0.425755   \n",
      "4        0.760488    0.254944    1.210275    0.109376  ...    -0.496787   \n",
      "...           ...         ...         ...         ...  ...          ...   \n",
      "6784    67.826652         NaN         NaN         NaN  ...          NaN   \n",
      "6785    67.735665         NaN         NaN         NaN  ...          NaN   \n",
      "6786    67.811868         NaN         NaN         NaN  ...          NaN   \n",
      "6787    67.764774         NaN         NaN         NaN  ...          NaN   \n",
      "6788    67.734461         NaN         NaN         NaN  ...          NaN   \n",
      "\n",
      "     d_y track 55 d_x track 62 d_y track 62 d_x track 67  d_y track 67  \\\n",
      "0             0.0          0.0          0.0          0.0           0.0   \n",
      "1       -0.212143     0.127308     0.235532     0.006974      0.053804   \n",
      "2        0.006779     0.026207     0.227441    -0.117639     -0.241389   \n",
      "3       -0.318876    -0.026004       -0.088     -0.22796     -0.528289   \n",
      "4       -0.276865    -0.084332     0.278668          0.0         -0.55   \n",
      "...           ...          ...          ...          ...           ...   \n",
      "6784          NaN          NaN          NaN          NaN           NaN   \n",
      "6785          NaN          NaN          NaN          NaN           NaN   \n",
      "6786          NaN          NaN          NaN          NaN           NaN   \n",
      "6787          NaN          NaN          NaN          NaN           NaN   \n",
      "6788          NaN          NaN          NaN          NaN           NaN   \n",
      "\n",
      "      d_x track 70 d_y track 70 d_x track 74 d_y track 74  \n",
      "0              0.0          0.0          0.0          0.0  \n",
      "1        -0.036685      0.51857     0.020267     0.054357  \n",
      "2          0.00209     0.801485     0.142708    -0.095455  \n",
      "3         -0.00418     0.507735     0.030552      0.30971  \n",
      "4         -0.00418     0.445239     0.030552      0.30971  \n",
      "...            ...          ...          ...          ...  \n",
      "6784           NaN          NaN          NaN          NaN  \n",
      "6785           NaN          NaN          NaN          NaN  \n",
      "6786           NaN          NaN          NaN          NaN  \n",
      "6787           NaN          NaN          NaN          NaN  \n",
      "6788           NaN          NaN          NaN          NaN  \n",
      "\n",
      "[6789 rows x 43 columns]\n"
     ]
    }
   ],
   "source": [
    "mr = tracksDf.shape[0];\n",
    "mc = tracksDf.shape[1];\n",
    "\n",
    "for i in range (0, mc):\n",
    "    if (i%3 == 1 or i%3 == 2):\n",
    "        trackCoordinates = tracksDf.iloc[:,i].dropna()\n",
    "        initPosition = trackCoordinates[0] #initial coordinate of particle\n",
    "        dR = pixSize*(trackCoordinates - initPosition);#calculate displacement\n",
    "        colR = i//3*2 + i%3 # column for displacement\n",
    "        dfdR.iloc[0:len(dR),colR] = dR;\n",
    "print(dfdR)"
   ]
  },
  {
   "cell_type": "markdown",
   "metadata": {},
   "source": [
    "## Save (optional)"
   ]
  },
  {
   "cell_type": "code",
   "execution_count": 27,
   "metadata": {},
   "outputs": [],
   "source": [
    "root = tk.Tk() # open tkinter gui\n",
    "path_save = tkinter.filedialog.asksaveasfilename()\n",
    "root.destroy() # close tkinter\n",
    "dfdR.to_csv(path_save+'.csv',index=False)"
   ]
  }
 ],
 "metadata": {
  "kernelspec": {
   "display_name": "Python 3 (ipykernel)",
   "language": "python",
   "name": "python3"
  },
  "language_info": {
   "codemirror_mode": {
    "name": "ipython",
    "version": 3
   },
   "file_extension": ".py",
   "mimetype": "text/x-python",
   "name": "python",
   "nbconvert_exporter": "python",
   "pygments_lexer": "ipython3",
   "version": "3.9.12"
  }
 },
 "nbformat": 4,
 "nbformat_minor": 4
}
